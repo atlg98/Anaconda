{
 "cells": [
  {
   "cell_type": "code",
   "execution_count": 6,
   "metadata": {},
   "outputs": [
    {
     "data": {
      "text/plain": [
       "array([[10, 22, 34]])"
      ]
     },
     "metadata": {},
     "output_type": "display_data"
    },
    {
     "data": {
      "text/plain": [
       "array([[10, 22, 34]])"
      ]
     },
     "metadata": {},
     "output_type": "display_data"
    },
    {
     "name": "stdout",
     "output_type": "stream",
     "text": [
      "[[22]] [[22]]\n"
     ]
    }
   ],
   "source": [
    "import numpy as np\n",
    "\n",
    "A = np.array([[1, 2], [3, 4], [5, 6]])\n",
    "B = np.array([[2], [4]])\n",
    "x = np.array([[2], [6]])\n",
    "y = np.array([[5], [2]])\n",
    "\n",
    "C = np.dot(A, B)\n",
    "D = A.dot(B)\n",
    "AB_t = A.dot(B).T\n",
    "B_tA = B.T.dot(A.T)\n",
    "xy_product = x.T.dot(y)\n",
    "\n",
    "print(A.shape, B.shape, C.shape)\n",
    "display(A, B, C, D)\n",
    "display(AB_t, B_tA)\n",
    "print(xy_product, y.T.dot(x))"
   ]
  },
  {
   "cell_type": "code",
   "execution_count": 10,
   "metadata": {},
   "outputs": [
    {
     "name": "stdout",
     "output_type": "stream",
     "text": [
      "3\n"
     ]
    },
    {
     "data": {
      "text/plain": [
       "array([[2],\n",
       "       [6],\n",
       "       [3]])"
      ]
     },
     "metadata": {},
     "output_type": "display_data"
    },
    {
     "data": {
      "text/plain": [
       "array([[1., 0., 0.],\n",
       "       [0., 1., 0.],\n",
       "       [0., 0., 1.]])"
      ]
     },
     "metadata": {},
     "output_type": "display_data"
    },
    {
     "data": {
      "text/plain": [
       "array([[2.],\n",
       "       [6.],\n",
       "       [3.]])"
      ]
     },
     "metadata": {},
     "output_type": "display_data"
    },
    {
     "data": {
      "text/plain": [
       "array([[ 3,  0,  2],\n",
       "       [ 2,  0, -2],\n",
       "       [ 0,  1,  1]])"
      ]
     },
     "metadata": {},
     "output_type": "display_data"
    },
    {
     "data": {
      "text/plain": [
       "array([[ 0.2,  0.2,  0. ],\n",
       "       [-0.2,  0.3,  1. ],\n",
       "       [ 0.2, -0.3, -0. ]])"
      ]
     },
     "metadata": {},
     "output_type": "display_data"
    },
    {
     "data": {
      "text/plain": [
       "array([[1., 0., 0.],\n",
       "       [0., 1., 0.],\n",
       "       [0., 0., 1.]])"
      ]
     },
     "metadata": {},
     "output_type": "display_data"
    },
    {
     "data": {
      "text/plain": [
       "array([[ 1.00000000e+00,  0.00000000e+00, -5.55111512e-17],\n",
       "       [ 0.00000000e+00,  1.00000000e+00,  0.00000000e+00],\n",
       "       [ 0.00000000e+00,  0.00000000e+00,  1.00000000e+00]])"
      ]
     },
     "metadata": {},
     "output_type": "display_data"
    }
   ],
   "source": [
    "x = np.array([[2], [6], [3]])\n",
    "I = np.eye(x.shape[0]) # Identity Matrix\n",
    "\n",
    "xid = I.dot(x)\n",
    "A = np.array([[3, 0, 2], [2, 0, -2], [0, 1, 1]])\n",
    "A_inv = np.linalg.inv(A) # Inverse Matrices \n",
    "\n",
    "display(x, I, xid)\n",
    "display(A, A_inv, np.round(np.abs(A.dot(A_inv)),2), A_inv.dot(A))"
   ]
  },
  {
   "cell_type": "code",
   "execution_count": 14,
   "metadata": {},
   "outputs": [
    {
     "name": "stdout",
     "output_type": "stream",
     "text": [
      "Ax = b \n",
      " [[ 2 -1]\n",
      " [ 1  1]]*\n",
      "[[1.]\n",
      " [2.]] = \n",
      "[[0]\n",
      " [3]]\n",
      "Solution is  [1. 2.]\n"
     ]
    }
   ],
   "source": [
    "# Solving a system of linear equations\n",
    "A = np.array([[2, -1], [1, 1]])\n",
    "A_inv = np.linalg.inv(A)\n",
    "b = np.array([[0], [3]])\n",
    "x = A_inv.dot(b)\n",
    "solution = x.flatten() # x.reshape(-1)\n",
    "print(\"Ax = b \\n {}*\\n{} = \\n{}\".format(A, x, b))\n",
    "print(\"Solution is \", solution)"
   ]
  },
  {
   "cell_type": "code",
   "execution_count": 17,
   "metadata": {},
   "outputs": [
    {
     "name": "stdout",
     "output_type": "stream",
     "text": [
      "36\n",
      "0.808233789010825 46.308384970187326\n",
      "36.0\n",
      " [1 2 3] * [-7  8  9] = 3.7416573867739413 * 13.92838827718412 * cos(0.808233789010825)\n",
      "14\n",
      "[2 7]\n"
     ]
    }
   ],
   "source": [
    "# Dot Product\n",
    "x = np.array([1,2,3])\n",
    "y = np.array([-7,8,9])\n",
    "dot = np.dot(x,y)\n",
    "\n",
    "x_modulus = np.sqrt((x*x).sum())\n",
    "y_modulus = np.sqrt((y*y).sum())\n",
    "cos_angle = dot / x_modulus / y_modulus # cosine of angle between x and y\n",
    "angle = np.arccos(cos_angle)\n",
    "degree = angle * 360 / 2 / np.pi # angle in degrees\n",
    "\n",
    "print(dot)\n",
    "print(angle , degree)\n",
    "print(x_modulus * y_modulus * np.cos(angle))\n",
    "print(\" {} * {} = {} * {} * cos({})\".format(x, y, x_modulus, y_modulus, angle))\n",
    "\n",
    "# Cross Product\n",
    "import numpy as np\n",
    "p = [4, 2]\n",
    "q = [5, 6]\n",
    "\n",
    "m = [[2, 2], [3, 1]]\n",
    "n = [[6, 7], [5, 4]]\n",
    "\n",
    "product1 = np.cross(p,q)\n",
    "product2 = np.cross(m,n)\n",
    "print(product1)\n",
    "print(product2)"
   ]
  },
  {
   "cell_type": "code",
   "execution_count": 18,
   "metadata": {},
   "outputs": [
    {
     "name": "stdout",
     "output_type": "stream",
     "text": [
      "[-10  -9  -8  -7  -6  -5  -4  -3  -2  -1   0   1   2   3   4   5   6   7\n",
      "   8   9] \n",
      " [-20 -18 -16 -14 -12 -10  -8  -6  -4  -2   0   2   4   6   8  10  12  14\n",
      "  16  18] \n",
      " [13 12 11 10  9  8  7  6  5  4  3  2  1  0 -1 -2 -3 -4 -5 -6]\n"
     ]
    },
    {
     "data": {
      "image/png": "[encoded data removed]",
      "text/plain": [
       "<Figure size 432x288 with 1 Axes>"
      ]
     },
     "metadata": {
      "needs_background": "light"
     },
     "output_type": "display_data"
    }
   ],
   "source": [
    "import matplotlib.pyplot as plt\n",
    "xmin = -10\n",
    "xmax = 10\n",
    "x = np.arange(xmin, xmax)\n",
    "y1 = 2*x\n",
    "y2 = -x + 3\n",
    "\n",
    "print(x, \"\\n\", y1, \"\\n\", y2)\n",
    "\n",
    "fig = plt.figure()\n",
    "ax = fig.gca()\n",
    "ax.set_xticks(np.arange(xmin, xmax, 1))\n",
    "ax.set_yticks(np.arange(xmin, xmax, 1))\n",
    "plt.plot(x, y1)\n",
    "plt.plot(x, y2)\n",
    "plt.plot(x, y1, '-gD')\n",
    "plt.plot(x, y2, '-ys')\n",
    "plt.plot(solution[0], solution[1], '-ro')\n",
    "plt.xlim(xmin, xmax)\n",
    "plt.ylim(xmin, xmax)\n",
    "plt.grid()\n",
    "plt.show()\n",
    "plt.close()"
   ]
  },
  {
   "cell_type": "code",
   "execution_count": 19,
   "metadata": {},
   "outputs": [
    {
     "name": "stdout",
     "output_type": "stream",
     "text": [
      "[4. 1.]\n",
      "[[ 0.70710678 -0.4472136 ]\n",
      " [ 0.70710678  0.89442719]]\n",
      "4.0 [0.70710678 0.70710678]\n",
      "1.0 [-0.4472136   0.89442719]\n",
      "[2.82842712 2.82842712] [2.82842712 2.82842712]\n",
      "True\n"
     ]
    }
   ],
   "source": [
    "# Eigenvalues & Eigenvectors\n",
    "import numpy as np\n",
    "\n",
    "a = np.array([[3, 1], [2, 2]])\n",
    "w, v = np.linalg.eig(a)\n",
    "\n",
    "eigenvalue01 = w[0]\n",
    "eigenvector01 = v[:,0]\n",
    "eigenvalue02 = w[1]\n",
    "eigenvector02 = v[:,1]\n",
    "\n",
    "# Av = λv\n",
    "Av = np.dot(a,eigenvector01)\n",
    "λv = np.dot(eigenvalue01,eigenvector01)\n",
    "\n",
    "print(w)\n",
    "print(v)\n",
    "print(eigenvalue01, eigenvector01)\n",
    "print(eigenvalue02, eigenvector02)\n",
    "\n",
    "print(Av, λv)\n",
    "print(np.allclose(np.dot(a,v[:,1]),np.dot(w[1],v[:,1])))"
   ]
  },
  {
   "cell_type": "code",
   "execution_count": 21,
   "metadata": {},
   "outputs": [
    {
     "name": "stdout",
     "output_type": "stream",
     "text": [
      "[[ 15.8    9.6  -12.  ]\n",
      " [  9.6   21.7  -17.25]\n",
      " [-12.   -17.25  18.5 ]]\n"
     ]
    },
    {
     "data": {
      "image/png": "[encoded data removed]",
      "text/plain": [
       "<Figure size 432x288 with 2 Axes>"
      ]
     },
     "metadata": {
      "needs_background": "light"
     },
     "output_type": "display_data"
    },
    {
     "name": "stdout",
     "output_type": "stream",
     "text": [
      "      A      B      C\n",
      "A  15.8   9.60 -12.00\n",
      "B   9.6  21.70 -17.25\n",
      "C -12.0 -17.25  18.50\n"
     ]
    },
    {
     "data": {
      "image/png": "[encoded data removed]",
      "text/plain": [
       "<Figure size 432x288 with 2 Axes>"
      ]
     },
     "metadata": {
      "needs_background": "light"
     },
     "output_type": "display_data"
    }
   ],
   "source": [
    "# Covariance Matrix\n",
    "import numpy as np\n",
    "import seaborn as sn\n",
    "import pandas as pd\n",
    "import matplotlib.pyplot as plt\n",
    "\n",
    "A = [45,37,42,35,39]\n",
    "B = [38,31,26,28,33]\n",
    "C = [10,15,17,21,12]\n",
    "\n",
    "data = np.array([A,B,C])\n",
    "covMatrix1 = np.cov(data,bias=False)\n",
    "\n",
    "print(covMatrix1)\n",
    "sn.heatmap(covMatrix1, annot=True, fmt='g')\n",
    "plt.show()\n",
    "\n",
    "df = pd.DataFrame(list(zip(A, B, C)),columns=['A','B','C'])\n",
    "covMatrix2 = pd.DataFrame.cov(df)\n",
    "print(covMatrix2)\n",
    "sn.heatmap(covMatrix2, annot=True, fmt='g')\n",
    "plt.show()"
   ]
  },
  {
   "cell_type": "code",
   "execution_count": 22,
   "metadata": {},
   "outputs": [],
   "source": [
    "%matplotlib inline\n",
    "import matplotlib.pyplot as plt\n",
    "import numpy as np\n",
    "%precision 4\n",
    "import os, sys, glob\n",
    "from scipy.stats import ttest_ind as t\n",
    "import matplotlib.colors as mcolors\n",
    "\n",
    "def cov(x, y):\n",
    "  \"\"\"Returns covaraiance of vectors x and y).\"\"\"\n",
    "  xbar = x.mean()\n",
    "  ybar = y.mean()\n",
    "  return np.sum((x - xbar)*(y - ybar))/(len(x) - 1)"
   ]
  },
  {
   "cell_type": "code",
   "execution_count": null,
   "metadata": {},
   "outputs": [],
   "source": [
    "mu = [0,0]\n",
    "sigma = [[0.6,0.2],[0.2,0.2]]\n",
    "n = 1000\n",
    "x = np.random.multivariate_normal(mu, sigma, n).T\n",
    "A = np.cov(x)\n",
    "e, v = np.linalg.eig(A)\n",
    "\n",
    "print(x, x.shape)\n",
    "print(A)\n",
    "print(e)\n",
    "print(v)\n",
    "\n",
    "plt.scatter(x[0,:], x[1,:], alpha=0.2)\n",
    "for e_, v_ in zip(e, v.T):\n",
    "    plt.plot([0, 3*e_*v_[0]], [0, 3*e_*v_[1]], 'r-', lw=2)\n",
    "plt.axis([-3,3,-3,3])\n",
    "plt.title('Eigenvectors of covariance matrix scaled by eigenvalue.');"
   ]
  },
  {
   "cell_type": "code",
   "execution_count": 23,
   "metadata": {},
   "outputs": [
    {
     "name": "stdout",
     "output_type": "stream",
     "text": [
      "1 [[14 13 46 13 25]\n",
      " [24 33 13 30 44]\n",
      " [21 15 24 49 37]] (20, 5)\n",
      "2 [[-16.55 -15.65  23.1  -14.95  -3.05]\n",
      " [ -6.55   4.35  -9.9    2.05  15.95]\n",
      " [ -9.55 -13.65   1.1   21.05   8.95]] (20, 5)\n",
      "3 [[143.3132   2.7289 -13.9947  26.8711 -19.3447]\n",
      " [  2.7289 123.9237 -41.7737 -26.0711  25.0711]\n",
      " [-13.9947 -41.7737 144.6211 -29.7947 -10.0474]\n",
      " [ 26.8711 -26.0711 -29.7947 132.3658  -2.9974]\n",
      " [-19.3447  25.0711 -10.0474  -2.9974 113.3132]]\n",
      "4 [ 63.4569  98.9596 126.2339 178.1484 190.738 ] \n",
      " [[ 0.1786 -0.3856 -0.6478  0.4586  0.4352]\n",
      " [-0.6554 -0.0262 -0.3491 -0.5788  0.3361]\n",
      " [-0.457  -0.4233 -0.1927  0.2342 -0.7211]\n",
      " [-0.5032 -0.16    0.5702  0.4738  0.4143]\n",
      " [ 0.2765 -0.8037  0.3102 -0.4188  0.0776]]\n",
      "5 [[ 0.4352  0.4586 -0.6478 -0.3856  0.1786]\n",
      " [ 0.3361 -0.5788 -0.3491 -0.0262 -0.6554]\n",
      " [-0.7211  0.2342 -0.1927 -0.4233 -0.457 ]\n",
      " [ 0.4143  0.4738  0.5702 -0.16   -0.5032]\n",
      " [ 0.0776 -0.4188  0.3102 -0.8037  0.2765]]\n",
      "6 [[ 0.4352  0.4586]\n",
      " [ 0.3361 -0.5788]\n",
      " [-0.7211  0.2342]\n",
      " [ 0.4143  0.4738]\n",
      " [ 0.0776 -0.4188]]\n",
      "7 [[-35.5501   1.0726]\n",
      " [  7.8371 -13.5492]\n",
      " [ -0.1206  10.0022]] (20, 2)\n"
     ]
    }
   ],
   "source": [
    "# PCA \n",
    "import numpy as np\n",
    "#Generate a dummy dataset.\n",
    "X = np.random.randint(10,50,100).reshape(20,5) \n",
    "# mean Centering the data  \n",
    "X_mean = X - np.mean(X , axis = 0)\n",
    "# Calculate the Covariance Matrix\n",
    "cov_mat = np.cov(X_mean , rowvar = False)\n",
    "#Calculating Eigenvalues and Eigenvectors of the covariance matrix\n",
    "eigen_values , eigen_vectors = np.linalg.eigh(cov_mat)\n",
    "\n",
    "#sort the eigenvalues in descending order\n",
    "sorted_index = np.argsort(eigen_values)[::-1]\n",
    "sorted_eigenvalue = eigen_values[sorted_index]\n",
    "#similarly sort the eigenvectors \n",
    "sorted_eigenvectors = eigen_vectors[:,sorted_index]\n",
    "\n",
    "# select the first n eigenvectors, n is desired dimension\n",
    "# of our final reduced data.\n",
    "n_components = 2 #you can select any number of components.\n",
    "eigenvector_subset = sorted_eigenvectors[:,0:n_components]\n",
    "\n",
    "#Transform the data \n",
    "X_reduced = np.dot(eigenvector_subset.transpose(),X_mean.transpose()).transpose()\n",
    "\n",
    "print(\"1\", X[:3], X.shape)\n",
    "print(\"2\", X_mean[:3], X_mean.shape)\n",
    "print(\"3\", cov_mat)\n",
    "print(\"4\", eigen_values , \"\\n\", eigen_vectors)\n",
    "print(\"5\", sorted_eigenvectors)\n",
    "print(\"6\", eigenvector_subset)\n",
    "print(\"7\", X_reduced[:3], X_reduced.shape)"
   ]
  },
  {
   "cell_type": "code",
   "execution_count": 24,
   "metadata": {},
   "outputs": [
    {
     "name": "stdout",
     "output_type": "stream",
     "text": [
      "[[14 13 46 13 25]\n",
      " [24 33 13 30 44]\n",
      " [21 15 24 49 37]] (20, 5)\n",
      "[[-35.5501   1.0726   2.2631]\n",
      " [  7.8371 -13.5492  10.7492]\n",
      " [ -0.1206  10.0022  25.5181]] (20, 3)\n"
     ]
    }
   ],
   "source": [
    "import numpy as np\n",
    " \n",
    "def PCA(X , num_components):\n",
    "    #Step-1\n",
    "    X_meaned = X - np.mean(X , axis = 0)\n",
    "    #Step-2\n",
    "    cov_mat = np.cov(X_meaned , rowvar = False)\n",
    "    #Step-3\n",
    "    eigen_values , eigen_vectors = np.linalg.eigh(cov_mat)\n",
    "    #Step-4\n",
    "    sorted_index = np.argsort(eigen_values)[::-1]\n",
    "    sorted_eigenvalue = eigen_values[sorted_index]\n",
    "    sorted_eigenvectors = eigen_vectors[:,sorted_index]\n",
    "    #Step-5\n",
    "    eigenvector_subset = sorted_eigenvectors[:,0:num_components]\n",
    "    #Step-6\n",
    "    X_reduced = np.dot(eigenvector_subset.transpose() , X_meaned.transpose() ).transpose()\n",
    "    return X_reduced\n",
    "\n",
    "X_reduced = PCA(X , num_components = 3)\n",
    "print(X[:3], X.shape)\n",
    "print(X_reduced[:3], X_reduced.shape)"
   ]
  },
  {
   "cell_type": "code",
   "execution_count": null,
   "metadata": {},
   "outputs": [],
   "source": []
  }
 ],
 "metadata": {
  "kernelspec": {
   "display_name": "Python 3",
   "language": "python",
   "name": "python3"
  },
  "language_info": {
   "codemirror_mode": {
    "name": "ipython",
    "version": 3
   },
   "file_extension": ".py",
   "mimetype": "text/x-python",
   "name": "python",
   "nbconvert_exporter": "python",
   "pygments_lexer": "ipython3",
   "version": "3.8.5"
  }
 },
 "nbformat": 4,
 "nbformat_minor": 4
}
